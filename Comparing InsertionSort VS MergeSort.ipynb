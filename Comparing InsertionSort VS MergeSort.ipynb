{
 "cells": [
  {
   "cell_type": "markdown",
   "metadata": {},
   "source": [
    "## Insertion Sort"
   ]
  },
  {
   "cell_type": "code",
   "execution_count": 1,
   "metadata": {},
   "outputs": [],
   "source": [
    "# Straightforward implementation of Insertion-Sort Algorithm as read on CLS\n",
    "# It accepts *args as input for better test-case implementation, to be easily compared to others Sorting algorithms\n",
    "\n",
    "def insertion_sort(A: list, *args):\n",
    "    for j in range(1, len(A)):\n",
    "        key = A[j]\n",
    "        i = j-1\n",
    "        while i >= 0 and A[i] > key:\n",
    "            A[i+1] = A[i]\n",
    "            i -= 1\n",
    "        A[i+1] = key\n",
    "    return A"
   ]
  },
  {
   "cell_type": "code",
   "execution_count": 2,
   "metadata": {},
   "outputs": [
    {
     "name": "stdout",
     "output_type": "stream",
     "text": [
      "Insertion Sort sample result: [2, 1, 4, 5, 3] --> [1, 2, 3, 4, 5]\n"
     ]
    }
   ],
   "source": [
    "test_IS: list = [2,1,4,5,3]\n",
    "sorted_IS = insertion_sort(test_IS[:])\n",
    "print(f'Insertion Sort sample result: {test_IS} --> {sorted_IS}')"
   ]
  },
  {
   "cell_type": "markdown",
   "metadata": {},
   "source": [
    "## Merge Sort"
   ]
  },
  {
   "cell_type": "code",
   "execution_count": 3,
   "metadata": {},
   "outputs": [],
   "source": [
    "# Straightforward implementarion of Merge-Sort Algorithm as read on CLS\n",
    "# Nested Merge function to make it only callable inside Merge-Sort func\n",
    "# It accepts *args as input for better test-case implementation, to be easily compared to others Sorting algorithms\n",
    "import math\n",
    "import sys\n",
    "\n",
    "def wrapper_MS(A: list, *args):\n",
    "    \n",
    "    def merge_sort(A: list, start: int, end: int, *args):\n",
    "        \n",
    "        def merge(A: list, start: int, mid: int, end:int):\n",
    "            left = A[start:mid]\n",
    "            right = A[mid:end]\n",
    "\n",
    "            left.append(sys.maxsize)\n",
    "            right.append(sys.maxsize)\n",
    "            i = j = 0\n",
    "\n",
    "            for k in range(start, end):\n",
    "                if left[i] <= right[j]:\n",
    "                    A[k] = left[i]\n",
    "                    i += 1\n",
    "                else:\n",
    "                    A[k] = right[j]\n",
    "                    j += 1\n",
    "\n",
    "        if start < end -1:\n",
    "            mid = math.floor((start+end)/2)\n",
    "            merge_sort(A, start, mid)\n",
    "            merge_sort(A, mid, end)\n",
    "            merge(A, start, mid, end)\n",
    "    \n",
    "    merge_sort(A, 0, len(A))    \n",
    "    return A"
   ]
  },
  {
   "cell_type": "code",
   "execution_count": 4,
   "metadata": {},
   "outputs": [
    {
     "name": "stdout",
     "output_type": "stream",
     "text": [
      "Merge Sort sample result: [2, 1, 4, 5, 3] --> [1, 2, 3, 4, 5]\n"
     ]
    }
   ],
   "source": [
    "test_MS: list = [2,1,4,5,3]\n",
    "sorted_MS = wrapper_MS(test_MS[:])\n",
    "print(f'Merge Sort sample result: {test_MS} --> {sorted_MS}')"
   ]
  },
  {
   "cell_type": "markdown",
   "metadata": {},
   "source": [
    "### Building Datas"
   ]
  },
  {
   "cell_type": "code",
   "execution_count": 5,
   "metadata": {},
   "outputs": [],
   "source": [
    "def assert_sorted(array: list) -> bool:\n",
    "    if array == sorted(array):\n",
    "        return True\n",
    "    return False"
   ]
  },
  {
   "cell_type": "code",
   "execution_count": 39,
   "metadata": {},
   "outputs": [],
   "source": [
    "# Class implemented for defining a complete pipe: Test-case generator ---> Results Datas\n",
    "# The class takes as input just the targeted test cases, later described.\n",
    "# The focus is on how much time does it get to sort the array, for each specific Sorting-Algorithm\n",
    "# NB: The execution time is not an empiric measure of the algorithm perfomances, as it depend mostly on \n",
    "# the used platform, os, py-version etc...\n",
    "# Each of these algorithm has it's Big-O time, more of it explained in the transcript\n",
    "\n",
    "import numpy as np\n",
    "import time\n",
    "import pandas as pd\n",
    "\n",
    "class DataBuilder:\n",
    "    \n",
    "    def __init__(self, cases: list):\n",
    "        self.steps = [i*2 for i in range(2,500,3)]\n",
    "        #print(self.steps)\n",
    "        self.snaps: list(dict()) = []\n",
    "        self.cases = cases\n",
    "    \n",
    "    # Where the magic happen\n",
    "    def run(self, algos: list):\n",
    "        for step in self.steps:\n",
    "            for func in algos:\n",
    "                for case in cases:\n",
    "                    test_case = case.build(step)\n",
    "                    median_T: list = []\n",
    "                        \n",
    "                    for repetition in range(5):\n",
    "                        try:\n",
    "                            start_time = time.perf_counter_ns()\n",
    "                            to_check = func(test_case[:]) # *args\n",
    "                            end_time = time.perf_counter_ns()\n",
    "                            \n",
    "                            median_T.append(end_time - start_time)\n",
    "                            \n",
    "                            if not assert_sorted(to_check):\n",
    "                                raise Exception ('Big Problemi')\n",
    "                        except Exception as e:\n",
    "                            print(e)\n",
    "                            break\n",
    "                        \n",
    "                    snap = {'Sorting Method': func.__name__, \n",
    "                            'Data Kind': case.__name__, \n",
    "                            'Size': step, \n",
    "                            'TimeElapsed': min(median_T)/1000, # nanos to micros\n",
    "                            'Test-Data': to_check}\n",
    "                    self.snaps.append(snap)\n",
    "                    \n",
    "    # Split DataFrame based on DataKind analisys, easier for me to plot then, still readable as table\n",
    "    def results(self):\n",
    "        frames: list = []\n",
    "        master_df = pd.DataFrame.from_dict(self.snaps)\n",
    "        for i in master_df['Sorting Method'].unique():\n",
    "            frames.append(master_df[master_df['Sorting Method'] == i])\n",
    "        return frames, master_df"
   ]
  },
  {
   "cell_type": "markdown",
   "metadata": {},
   "source": [
    "## Test Cases"
   ]
  },
  {
   "cell_type": "code",
   "execution_count": 40,
   "metadata": {},
   "outputs": [],
   "source": [
    "# Here I defined 3 useful test cases giving us an idea of the performances of \n",
    "# an average-case, a easy-case, and a heavy-case."
   ]
  },
  {
   "cell_type": "code",
   "execution_count": 41,
   "metadata": {},
   "outputs": [],
   "source": [
    "# Given a size, generate a random Integer list, and then shuffle, that provides the average-case\n",
    "import random\n",
    "class UnsortedTest:\n",
    "    def build(size):\n",
    "        #return list(np.random.randint(low=0, high=2 ** 10 - 1, size=size))\n",
    "        to_s = list(range(0,size))\n",
    "        random.shuffle(to_s)\n",
    "        return to_s"
   ]
  },
  {
   "cell_type": "code",
   "execution_count": 42,
   "metadata": {},
   "outputs": [],
   "source": [
    "# Given a size, generate some random Integers, and sort them (I'm using py-built in func), that works as lighter-case\n",
    "class AlredySortedTest:\n",
    "    def build(size):\n",
    "        #return sorted(list(np.random.randint(low=0, high=2 ** 10 - 1, size=size)))\n",
    "        return list(range(0,size))"
   ]
  },
  {
   "cell_type": "code",
   "execution_count": 43,
   "metadata": {},
   "outputs": [],
   "source": [
    "# Given a size, generate an reverse-ordered Integer list, that should make the heavier-case\n",
    "class ReversedTest:\n",
    "    def build(size):\n",
    "        #return sorted(list(np.random.randint(low=0, high=2 ** 10 - 1, size=size)))[::-1]\n",
    "        return list(range(0,size))[::-1]"
   ]
  },
  {
   "cell_type": "code",
   "execution_count": 44,
   "metadata": {},
   "outputs": [
    {
     "data": {
      "text/html": [
       "<div>\n",
       "<style scoped>\n",
       "    .dataframe tbody tr th:only-of-type {\n",
       "        vertical-align: middle;\n",
       "    }\n",
       "\n",
       "    .dataframe tbody tr th {\n",
       "        vertical-align: top;\n",
       "    }\n",
       "\n",
       "    .dataframe thead th {\n",
       "        text-align: right;\n",
       "    }\n",
       "</style>\n",
       "<table border=\"1\" class=\"dataframe\">\n",
       "  <thead>\n",
       "    <tr style=\"text-align: right;\">\n",
       "      <th></th>\n",
       "      <th>Sorting Method</th>\n",
       "      <th>Data Kind</th>\n",
       "      <th>Size</th>\n",
       "      <th>TimeElapsed</th>\n",
       "      <th>Test-Data</th>\n",
       "    </tr>\n",
       "  </thead>\n",
       "  <tbody>\n",
       "    <tr>\n",
       "      <th>0</th>\n",
       "      <td>wrapper_MS</td>\n",
       "      <td>UnsortedTest</td>\n",
       "      <td>4</td>\n",
       "      <td>10.367</td>\n",
       "      <td>[0, 1, 2, 3]</td>\n",
       "    </tr>\n",
       "    <tr>\n",
       "      <th>1</th>\n",
       "      <td>wrapper_MS</td>\n",
       "      <td>AlredySortedTest</td>\n",
       "      <td>4</td>\n",
       "      <td>10.101</td>\n",
       "      <td>[0, 1, 2, 3]</td>\n",
       "    </tr>\n",
       "    <tr>\n",
       "      <th>2</th>\n",
       "      <td>wrapper_MS</td>\n",
       "      <td>ReversedTest</td>\n",
       "      <td>4</td>\n",
       "      <td>9.875</td>\n",
       "      <td>[0, 1, 2, 3]</td>\n",
       "    </tr>\n",
       "    <tr>\n",
       "      <th>3</th>\n",
       "      <td>insertion_sort</td>\n",
       "      <td>UnsortedTest</td>\n",
       "      <td>4</td>\n",
       "      <td>2.674</td>\n",
       "      <td>[0, 1, 2, 3]</td>\n",
       "    </tr>\n",
       "    <tr>\n",
       "      <th>4</th>\n",
       "      <td>insertion_sort</td>\n",
       "      <td>AlredySortedTest</td>\n",
       "      <td>4</td>\n",
       "      <td>1.566</td>\n",
       "      <td>[0, 1, 2, 3]</td>\n",
       "    </tr>\n",
       "    <tr>\n",
       "      <th>...</th>\n",
       "      <td>...</td>\n",
       "      <td>...</td>\n",
       "      <td>...</td>\n",
       "      <td>...</td>\n",
       "      <td>...</td>\n",
       "    </tr>\n",
       "    <tr>\n",
       "      <th>991</th>\n",
       "      <td>wrapper_MS</td>\n",
       "      <td>AlredySortedTest</td>\n",
       "      <td>994</td>\n",
       "      <td>2432.845</td>\n",
       "      <td>[0, 1, 2, 3, 4, 5, 6, 7, 8, 9, 10, 11, 12, 13,...</td>\n",
       "    </tr>\n",
       "    <tr>\n",
       "      <th>992</th>\n",
       "      <td>wrapper_MS</td>\n",
       "      <td>ReversedTest</td>\n",
       "      <td>994</td>\n",
       "      <td>2408.727</td>\n",
       "      <td>[0, 1, 2, 3, 4, 5, 6, 7, 8, 9, 10, 11, 12, 13,...</td>\n",
       "    </tr>\n",
       "    <tr>\n",
       "      <th>993</th>\n",
       "      <td>insertion_sort</td>\n",
       "      <td>UnsortedTest</td>\n",
       "      <td>994</td>\n",
       "      <td>32496.412</td>\n",
       "      <td>[0, 1, 2, 3, 4, 5, 6, 7, 8, 9, 10, 11, 12, 13,...</td>\n",
       "    </tr>\n",
       "    <tr>\n",
       "      <th>994</th>\n",
       "      <td>insertion_sort</td>\n",
       "      <td>AlredySortedTest</td>\n",
       "      <td>994</td>\n",
       "      <td>154.417</td>\n",
       "      <td>[0, 1, 2, 3, 4, 5, 6, 7, 8, 9, 10, 11, 12, 13,...</td>\n",
       "    </tr>\n",
       "    <tr>\n",
       "      <th>995</th>\n",
       "      <td>insertion_sort</td>\n",
       "      <td>ReversedTest</td>\n",
       "      <td>994</td>\n",
       "      <td>62649.220</td>\n",
       "      <td>[0, 1, 2, 3, 4, 5, 6, 7, 8, 9, 10, 11, 12, 13,...</td>\n",
       "    </tr>\n",
       "  </tbody>\n",
       "</table>\n",
       "<p>996 rows × 5 columns</p>\n",
       "</div>"
      ],
      "text/plain": [
       "     Sorting Method         Data Kind  Size  TimeElapsed  \\\n",
       "0        wrapper_MS      UnsortedTest     4       10.367   \n",
       "1        wrapper_MS  AlredySortedTest     4       10.101   \n",
       "2        wrapper_MS      ReversedTest     4        9.875   \n",
       "3    insertion_sort      UnsortedTest     4        2.674   \n",
       "4    insertion_sort  AlredySortedTest     4        1.566   \n",
       "..              ...               ...   ...          ...   \n",
       "991      wrapper_MS  AlredySortedTest   994     2432.845   \n",
       "992      wrapper_MS      ReversedTest   994     2408.727   \n",
       "993  insertion_sort      UnsortedTest   994    32496.412   \n",
       "994  insertion_sort  AlredySortedTest   994      154.417   \n",
       "995  insertion_sort      ReversedTest   994    62649.220   \n",
       "\n",
       "                                             Test-Data  \n",
       "0                                         [0, 1, 2, 3]  \n",
       "1                                         [0, 1, 2, 3]  \n",
       "2                                         [0, 1, 2, 3]  \n",
       "3                                         [0, 1, 2, 3]  \n",
       "4                                         [0, 1, 2, 3]  \n",
       "..                                                 ...  \n",
       "991  [0, 1, 2, 3, 4, 5, 6, 7, 8, 9, 10, 11, 12, 13,...  \n",
       "992  [0, 1, 2, 3, 4, 5, 6, 7, 8, 9, 10, 11, 12, 13,...  \n",
       "993  [0, 1, 2, 3, 4, 5, 6, 7, 8, 9, 10, 11, 12, 13,...  \n",
       "994  [0, 1, 2, 3, 4, 5, 6, 7, 8, 9, 10, 11, 12, 13,...  \n",
       "995  [0, 1, 2, 3, 4, 5, 6, 7, 8, 9, 10, 11, 12, 13,...  \n",
       "\n",
       "[996 rows x 5 columns]"
      ]
     },
     "execution_count": 44,
     "metadata": {},
     "output_type": "execute_result"
    }
   ],
   "source": [
    "# Defining the cases, open to more...\n",
    "cases = [UnsortedTest, AlredySortedTest, ReversedTest]\n",
    "# Let's compare just the ones we're interested in\n",
    "funcs = [wrapper_MS, insertion_sort]\n",
    "\n",
    "# Let's build the datas\n",
    "A = DataBuilder(cases)\n",
    "A.run(funcs)\n",
    "\n",
    "# Let's get the table\n",
    "frames, table = A.results()\n",
    "table"
   ]
  },
  {
   "cell_type": "markdown",
   "metadata": {},
   "source": [
    "## Let's Plot then"
   ]
  },
  {
   "cell_type": "code",
   "execution_count": 45,
   "metadata": {},
   "outputs": [
    {
     "data": {
      "text/plain": [
       "<AxesSubplot:title={'center':'MergeSort'}, xlabel='Array Size', ylabel='Time in micro-s'>"
      ]
     },
     "execution_count": 45,
     "metadata": {},
     "output_type": "execute_result"
    },
    {
     "data": {
      "image/png": "[encoded data removed]",
      "text/plain": [
       "<Figure size 1080x504 with 1 Axes>"
      ]
     },
     "metadata": {
      "needs_background": "light"
     },
     "output_type": "display_data"
    }
   ],
   "source": [
    "dfMS = frames[0].pivot(index='Size', columns='Data Kind', values='TimeElapsed')\n",
    "dfMS.plot(xlabel='Array Size', ylabel='Time in micro-s', title='MergeSort', figsize=(15,7))"
   ]
  },
  {
   "cell_type": "code",
   "execution_count": 46,
   "metadata": {},
   "outputs": [
    {
     "data": {
      "text/plain": [
       "<AxesSubplot:title={'center':'InsertionSort'}, xlabel='Array Size', ylabel='Time in micro-s'>"
      ]
     },
     "execution_count": 46,
     "metadata": {},
     "output_type": "execute_result"
    },
    {
     "data": {
      "image/png": "[encoded data removed]",
      "text/plain": [
       "<Figure size 1080x504 with 1 Axes>"
      ]
     },
     "metadata": {
      "needs_background": "light"
     },
     "output_type": "display_data"
    }
   ],
   "source": [
    "dfIS = frames[1].pivot(index='Size', columns='Data Kind', values='TimeElapsed')\n",
    "dfIS.plot(xlabel='Array Size', ylabel='Time in micro-s', title='InsertionSort', figsize=(15,7))"
   ]
  },
  {
   "cell_type": "code",
   "execution_count": 14,
   "metadata": {},
   "outputs": [],
   "source": [
    "#dfUns = frames[0].pivot(index='Size', columns='Data Kind', values='TimeElapsed')\n",
    "#dfSor = frames[1].pivot(index='Size', columns='Sorting Method', values='TimeElapsed')\n",
    "#dfRSor = frames[2].pivot(index='Size', columns='Sorting Method', values='TimeElapsed')\n",
    "#dfUns.plot(xlabel='Array Size', ylabel='Time in ns', title='Unsorted', figsize=(15,7))\n",
    "#dfSor.plot(xlabel='Array Size', ylabel='Time in ns', title='AlreadySorted', figsize=(15,7))\n",
    "#dfRSor.plot(xlabel='Array Size', ylabel='Time in ns', title='Reversed', figsize=(15,7))"
   ]
  }
 ],
 "metadata": {
  "kernelspec": {
   "display_name": "Python 3",
   "language": "python",
   "name": "python3"
  },
  "language_info": {
   "codemirror_mode": {
    "name": "ipython",
    "version": 3
   },
   "file_extension": ".py",
   "mimetype": "text/x-python",
   "name": "python",
   "nbconvert_exporter": "python",
   "pygments_lexer": "ipython3",
   "version": "3.8.5"
  }
 },
 "nbformat": 4,
 "nbformat_minor": 4
}
